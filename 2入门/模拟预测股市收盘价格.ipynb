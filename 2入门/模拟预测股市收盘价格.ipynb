{
 "cells": [
  {
   "cell_type": "code",
   "execution_count": 1,
   "metadata": {},
   "outputs": [
    {
     "name": "stderr",
     "output_type": "stream",
     "text": [
      "E:\\python 3.5\\lib\\site-packages\\h5py\\__init__.py:36: FutureWarning: Conversion of the second argument of issubdtype from `float` to `np.floating` is deprecated. In future, it will be treated as `np.float64 == np.dtype(float).type`.\n",
      "  from ._conv import register_converters as _register_converters\n"
     ]
    }
   ],
   "source": [
    "import numpy as np\n",
    "import tensorflow as tf\n",
    "import matplotlib.pyplot as plt"
   ]
  },
  {
   "cell_type": "markdown",
   "metadata": {},
   "source": [
    "# 股市价格可视化"
   ]
  },
  {
   "cell_type": "code",
   "execution_count": 42,
   "metadata": {},
   "outputs": [
    {
     "data": {
      "image/png": "[encoded data removed]",
      "text/plain": [
       "<Figure size 432x288 with 1 Axes>"
      ]
     },
     "metadata": {},
     "output_type": "display_data"
    }
   ],
   "source": [
    "date = np.linspace(1,15,15)\n",
    "endPrice = np.array([2511.90,2538.26,2510.68,2591.66,2732.98,2701.69,2701.29,2678.67,2726.50,2681.50,2739.17,2715.07,2823.58,2864.90,2919.08]\n",
    ")\n",
    "beginPrice = np.array([2438.71,2500.88,2534.95,2512.52,2594.04,2743.26,2697.47,2695.24,2678.23,2722.13,2674.93,2744.13,2717.46,2832.73,2877.40])\n",
    "for i in range(0,15):\n",
    "    #画柱状图显示目前的股市价格\n",
    "    dataone = np.zeros([2])\n",
    "    dataone[0] = i\n",
    "    dataone[1] = i\n",
    "    priceone = np.zeros([2])\n",
    "    priceone[0] = beginPrice[i]\n",
    "    priceone[1] = endPrice[i]\n",
    "    if priceone[0] > priceone[1]:\n",
    "        plt.plot(dataone,priceone,'g',lw = 8)\n",
    "    else:\n",
    "        plt.plot(dataone,priceone,'r',lw = 8)\n"
   ]
  },
  {
   "cell_type": "code",
   "execution_count": 43,
   "metadata": {},
   "outputs": [],
   "source": [
    "dataNormal = np.zeros([15,1])\n",
    "priceNormal = np.zeros([15,1])\n",
    "\n",
    "#规范化\n",
    "for i in range(0,15):\n",
    "    dataNormal[i,0] = i / 14.0\n",
    "    priceNormal[i,0] =  endPrice[i] / 3000.0\n",
    "x = tf.placeholder(tf.float32,[None,1])\n",
    "y = tf.placeholder(tf.float32,[None,1])\n",
    "# B\n",
    "w1 = tf.Variable(tf.random_uniform([1,10],0,1))\n",
    "b1 = tf.Variable(tf.zeros([1,10]))\n",
    "wb1 = tf.matmul(x,w1)+b1\n",
    "layer1 = tf.nn.relu(wb1)# 激励函数\n",
    "# C\n",
    "w2 = tf.Variable(tf.random_uniform([10,1],0,1))\n",
    "b2 = tf.Variable(tf.zeros([15,1]))\n",
    "wb2 = tf.matmul(layer1,w2)+b2\n",
    "layer2 = tf.nn.relu(wb2)\n",
    "#计算与实际差别\n",
    "loss = tf.reduce_mean(tf.square(y-layer2))\n",
    "#梯度下降求最小损失\n",
    "train_step = tf.train.GradientDescentOptimizer(0.1).minimize(loss)"
   ]
  },
  {
   "cell_type": "code",
   "execution_count": 45,
   "metadata": {
    "scrolled": true
   },
   "outputs": [
    {
     "data": {
      "image/png": "[encoded data removed]",
      "text/plain": [
       "<Figure size 432x288 with 1 Axes>"
      ]
     },
     "metadata": {},
     "output_type": "display_data"
    }
   ],
   "source": [
    "for i in range(0,15):\n",
    "    #画柱状图显示目前的股市价格\n",
    "    dataone = np.zeros([2])\n",
    "    dataone[0] = i\n",
    "    dataone[1] = i\n",
    "    priceone = np.zeros([2])\n",
    "    priceone[0] = beginPrice[i]\n",
    "    priceone[1] = endPrice[i]\n",
    "    if priceone[0] > priceone[1]:\n",
    "        plt.plot(dataone,priceone,'g',lw = 8)\n",
    "    else:\n",
    "        plt.plot(dataone,priceone,'r',lw = 8)\n",
    "sess = tf.Session()\n",
    "with sess:\n",
    "    sess.run(tf.global_variables_initializer())\n",
    "    for i in range(10000):\n",
    "        sess.run(train_step,feed_dict={x:dataNormal,y:priceNormal})\n",
    "    pred = sess.run(layer2,feed_dict={x:dataNormal})\n",
    "    predPrice = np.zeros([15,1])\n",
    "    for i in range(0,15):\n",
    "        predPrice[i,0]=(pred*3000)[i,0]\n",
    "    plt.plot(date,predPrice,'b',lw=1)\n",
    "plt.show()"
   ]
  },
  {
   "cell_type": "code",
   "execution_count": null,
   "metadata": {},
   "outputs": [],
   "source": []
  }
 ],
 "metadata": {
  "kernelspec": {
   "display_name": "Python 3",
   "language": "python",
   "name": "python3"
  },
  "language_info": {
   "codemirror_mode": {
    "name": "ipython",
    "version": 3
   },
   "file_extension": ".py",
   "mimetype": "text/x-python",
   "name": "python",
   "nbconvert_exporter": "python",
   "pygments_lexer": "ipython3",
   "version": "3.6.5"
  }
 },
 "nbformat": 4,
 "nbformat_minor": 2
}
